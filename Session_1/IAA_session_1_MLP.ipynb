{
 "cells": [
  {
   "cell_type": "markdown",
   "metadata": {
    "id": "ZDitZsQALa1H"
   },
   "source": [
    "# SESSION 1: NEURAL NETWORKS FUNDAMENTALS"
   ]
  },
  {
   "cell_type": "markdown",
   "metadata": {
    "id": "Wi84rOu4si0V"
   },
   "source": [
    "SO Basics of Neural Networks 2023 school at the IAA-CSIC. Nov 2023.  \n",
    "Eduardo Sánchez Karhunen  (fesanchez@us.es)  \n",
    "University of Seville. Spain.  Dept. of CS and Artificial Inteligence\n"
   ]
  },
  {
   "cell_type": "markdown",
   "metadata": {
    "id": "pi-LyvK2V070"
   },
   "source": [
    "### 1. Introduction"
   ]
  },
  {
   "cell_type": "markdown",
   "metadata": {
    "id": "1EQPOjdLUGZC"
   },
   "source": [
    "In this notebook we are going to take our first steps into the implementation of neural networks. Nowadays, there are two main neural networks frameworks:\n",
    "* Tensorflow (TF), developed by Google.\n",
    "* Pytorch, TF's main competitor, released by Facebook (Meta).\n",
    "\n",
    "TF has been selected for this session, due to the simplicity of versions >= 2.0 (released in 2021). Particularly, its integration with Keras has significantly simplified neural networks definition. It is also the default frameworks in industrial and enterprise environments.\n",
    "\n",
    "In any case, all concepts and techniques we will learn in these sessions can be directly applied to Pytorch. At user level, once dominated the core concepts of TF, it is extremely easy to migrate to another frameworks with a very smooth learning curve.\n",
    "\n",
    "Tensorflow was developed by Google Brain for internal purposes and was open sourced in 2015. Since then, it has evolved up to its current version TF2.14. There are two main APIs:\n",
    "\n",
    "*   High-level (tf.keras): it is enough for user level normal applications.\n",
    "*   Lower-level (python API): adds a finer control of all neural network \"operations\", custom loss functions, metrics, initializers, etc. Even training loop technical details can be controlled.\n",
    "\n",
    "<br>\n",
    "\n",
    "![picture](https://drive.google.com/uc?id=1ZzkQ_zHt2VMc_zgqFTI50jd_iG0LsQeI)\n"
   ]
  },
  {
   "cell_type": "markdown",
   "metadata": {
    "id": "lgifR7WTbN4Q"
   },
   "source": [
    "### 2. Dataset"
   ]
  },
  {
   "cell_type": "markdown",
   "metadata": {
    "id": "SA67yPnrbN_w"
   },
   "source": [
    "Some datasets have become the de facto benchmarck to compare different deep learning models performance. For image classification, the classical ones are:\n",
    "\n",
    "* **MNIST dataset**, composed by hand-written digits from 0-9. Grayscale 28x28 images and 10 classes.\n",
    "\n",
    "<br>\n",
    "\n",
    "![picture](https://drive.google.com/uc?id=1DvG19JZ8RfMwF1MRJns_GbXjFnJQmYAE)\n",
    "\n",
    "<br>\n",
    "\n",
    "* **Fashion-MNIST dataset**, once NN classification models improved their performance, a more difficult benchmark dataset was needed. Zalando proposed a new one called Fashion-MNIST as a direct drop-in replacement for the original MNIST dataset. It is based on Zalando`s article images with grayscale 28x28 images and 10 classes.\n",
    "\n",
    "<br>\n",
    "\n",
    "![picture](https://drive.google.com/uc?id=1SKvSSdyHN6FrORpIO4km_aMCo33AouNf)\n",
    "\n",
    "<br>\n",
    "\n",
    "* Other field-specific datasets have been proposed:\n",
    "   - Galaxy10: composed by colored galaxy images from 10 classes, 69x69 RGB.\n",
    "\n",
    "For educational purposes, in this first session we will tackle a multiclass classification problem (dataset: Fashion-MNIST dataset). In this first step the selected architecture is a basic multilayer structure: MLP (Multilayer Perceptron). While solving this problem key concepts about neural networks will be explained as: training, backpropagation, loss function, etc. In the hands-on session, the techniques presented in this notebook will be used to tackle the Galaxy10 classification problem."
   ]
  },
  {
   "cell_type": "markdown",
   "metadata": {
    "id": "tLgenWShFb0N"
   },
   "source": [
    "### 3. Loading data"
   ]
  },
  {
   "cell_type": "code",
   "execution_count": 2,
   "metadata": {
    "executionInfo": {
     "elapsed": 539,
     "status": "ok",
     "timestamp": 1699014989668,
     "user": {
      "displayName": "Eduardo Sanchez Karhunen",
      "userId": "07705693878574082533"
     },
     "user_tz": -60
    },
    "id": "YM3D8-fdDpjJ"
   },
   "outputs": [],
   "source": [
    "import tensorflow as tf\n",
    "import numpy as np\n",
    "import pandas as pd"
   ]
  },
  {
   "cell_type": "code",
   "execution_count": null,
   "outputs": [],
   "source": [
    "# only execute this lines if the following error appears\n",
    "# OMP: Error #15: Initializing libiomp5md.dll, but found libiomp5md.dll already initialized.\n",
    "\n",
    "# import os\n",
    "# os.environ['KMP_DUPLICATE_LIB_OK']='True'"
   ],
   "metadata": {
    "collapsed": false
   }
  },
  {
   "cell_type": "code",
   "execution_count": 3,
   "metadata": {
    "colab": {
     "base_uri": "https://localhost:8080/",
     "height": 35
    },
    "executionInfo": {
     "elapsed": 15,
     "status": "ok",
     "timestamp": 1699014990054,
     "user": {
      "displayName": "Eduardo Sanchez Karhunen",
      "userId": "07705693878574082533"
     },
     "user_tz": -60
    },
    "id": "zMDSt7cLDpmJ",
    "outputId": "9254925e-a6e5-46ce-cfbb-e9d0c15c2ef2"
   },
   "outputs": [
    {
     "data": {
      "text/plain": [
       "'2.10.0'"
      ]
     },
     "execution_count": 3,
     "metadata": {},
     "output_type": "execute_result"
    }
   ],
   "source": [
    "tf.__version__"
   ]
  },
  {
   "cell_type": "markdown",
   "metadata": {
    "id": "TL-SCL1HD-LK"
   },
   "source": [
    "For reproducibility purposes, a seed if provided to the system. This seed has to be fixed separately in Python, numpy and Tensorflow. Luckily, in recent versions of TF a new functionality has been added fixing all seeds in one single step. Of course, the seed value can be set to any integer value but for sentimental reasons 42 is the most common seed.  \n",
    "\n",
    "The community believes the origin for this concrete seed value is in Douglas Adams’s science-fiction novel: *The Hitchhiker’s Guide to the Galaxy* (1979). Towards the end of the book, the supercomputer Deep Thought revealed that the answer to the great question of “life, the universe and everything” is 42."
   ]
  },
  {
   "cell_type": "code",
   "execution_count": 4,
   "metadata": {
    "executionInfo": {
     "elapsed": 13,
     "status": "ok",
     "timestamp": 1699014990054,
     "user": {
      "displayName": "Eduardo Sanchez Karhunen",
      "userId": "07705693878574082533"
     },
     "user_tz": -60
    },
    "id": "1xaT-ISYD_gg"
   },
   "outputs": [],
   "source": [
    "SEED = 42\n",
    "tf.keras.utils.set_random_seed(SEED)\n",
    "\n",
    "# this utility is equivalent to the following\n",
    "# random.seed(SEED)\n",
    "# np.random.seed(SEED)\n",
    "# tf.random.set_seed(SEED)"
   ]
  },
  {
   "cell_type": "markdown",
   "metadata": {
    "id": "WB4afyjSEGbD"
   },
   "source": [
    "All frameworks have functionalities to load easily reference datasets as fashion-MNIST. All these functions are collected in a library typically called `datasets`. (https://www.tensorflow.org/api_docs/python/tf/keras/datasets/fashion_mnist/load_data)"
   ]
  },
  {
   "cell_type": "code",
   "execution_count": 5,
   "metadata": {
    "executionInfo": {
     "elapsed": 13,
     "status": "ok",
     "timestamp": 1699014990055,
     "user": {
      "displayName": "Eduardo Sanchez Karhunen",
      "userId": "07705693878574082533"
     },
     "user_tz": -60
    },
    "id": "EEEZftbPOvMH"
   },
   "outputs": [],
   "source": [
    "(X_train_full, y_train_full), (X_test, y_test) = tf.keras.datasets.fashion_mnist.load_data()"
   ]
  },
  {
   "cell_type": "markdown",
   "metadata": {
    "id": "SF-eA0BUPkoO"
   },
   "source": [
    "Loading a dataset means, to obtain one or multiple numpy arrays containing the input atributes $(X)$ and its associated labels $(y)$. Depending on the concrete framework/dataset, the obtained info can be either divided into train and test datasets or not. Sometimes it can be a little bit tricky. For instance, the Fashion-MNIST is obtained from:\n",
    "* tensorflow: as 28x28 numpy arrays.\n",
    "* scikit-learn: as 1D array of length 784.\n",
    "\n",
    "In our Fashion-MNIST dataset, TF provides two datasets and its associated class labels:\n",
    "\n",
    "* Train dataset: $X_{train\\_full}$ (60K samples)\n",
    "* Test dataset: $X_{test}$ (10K samples)\n",
    "\n",
    "Inspecting their shapes, we can confirm their dimensions: 28x28 pixeles. Additionally, from the shape we can deduce that they are grayscale (not colored) images."
   ]
  },
  {
   "cell_type": "code",
   "execution_count": 6,
   "metadata": {
    "colab": {
     "base_uri": "https://localhost:8080/"
    },
    "executionInfo": {
     "elapsed": 13,
     "status": "ok",
     "timestamp": 1699014990055,
     "user": {
      "displayName": "Eduardo Sanchez Karhunen",
      "userId": "07705693878574082533"
     },
     "user_tz": -60
    },
    "id": "KJjjhUCSPqW3",
    "outputId": "2342fda7-9079-4e17-f0f0-2acf6c96b1f2"
   },
   "outputs": [
    {
     "name": "stdout",
     "output_type": "stream",
     "text": [
      "training dataset:  (60000, 28, 28)\n",
      "test dataset:  (10000, 28, 28)\n"
     ]
    }
   ],
   "source": [
    "print(\"training dataset: \", X_train_full.shape)\n",
    "print(\"test dataset: \", X_test.shape)"
   ]
  },
  {
   "cell_type": "markdown",
   "metadata": {
    "id": "cAOBgJn8kpzB"
   },
   "source": [
    "Colored images have an additional \"axis\" indicating the number of channels (colors), something like this: `(60000, 28, 28, 3)`."
   ]
  },
  {
   "cell_type": "markdown",
   "metadata": {
    "id": "0cCMSlLTZc5T"
   },
   "source": [
    "### 4. Data preprocessing"
   ]
  },
  {
   "cell_type": "markdown",
   "metadata": {
    "id": "vjofIOazKtUn"
   },
   "source": [
    "At this stage we have a train and a test dataset. But in neural networks, a third *validation* dataset is needed to check how model performance progress during training. In this case, we have decided to select randomly 5K from the original 60K training dataset.\n",
    "\n",
    "One of the advantages of neural networks is their intrinsic ability to perform \"feature extraction\" as part of the training pipeline. Hence, a human intervention is not needed to identify the most relevant features. For this reason, the preprocessing of images feeded to the networks is very simple.\n"
   ]
  },
  {
   "cell_type": "markdown",
   "metadata": {
    "id": "njPuupRElZbP"
   },
   "source": [
    "The range of values $[0,255]$ contained in the matrix can be problematic when gradient descent is involved. We can check the maximum and minimum values of the image pixels and their data type (unsigned integer):"
   ]
  },
  {
   "cell_type": "code",
   "execution_count": 7,
   "metadata": {
    "colab": {
     "base_uri": "https://localhost:8080/"
    },
    "executionInfo": {
     "elapsed": 10,
     "status": "ok",
     "timestamp": 1699014990055,
     "user": {
      "displayName": "Eduardo Sanchez Karhunen",
      "userId": "07705693878574082533"
     },
     "user_tz": -60
    },
    "id": "0nNHGO4ruLtj",
    "outputId": "1e48cc62-c2c8-452e-976c-f52bbc0a4f95"
   },
   "outputs": [
    {
     "data": {
      "text/plain": [
       "(0, 255, dtype('uint8'))"
      ]
     },
     "execution_count": 7,
     "metadata": {},
     "output_type": "execute_result"
    }
   ],
   "source": [
    "np.min(X_train_full), np.max(X_train_full), X_train_full.dtype"
   ]
  },
  {
   "cell_type": "markdown",
   "metadata": {
    "id": "usT6OKqbuNtK"
   },
   "source": [
    "There are different strategies to scale input \"atributes\". The most widely used is simply, to divide by $255.0$, compressing the values into the range $[0,1]$.\n",
    "\n",
    "Both steps, the creation of the validation dataset $X\\_valid$, and the pixel scaling can be performed in a single step."
   ]
  },
  {
   "cell_type": "code",
   "execution_count": 8,
   "metadata": {
    "executionInfo": {
     "elapsed": 9,
     "status": "ok",
     "timestamp": 1699014990055,
     "user": {
      "displayName": "Eduardo Sanchez Karhunen",
      "userId": "07705693878574082533"
     },
     "user_tz": -60
    },
    "id": "Cq6UaXn_sga5"
   },
   "outputs": [],
   "source": [
    "X_valid, X_train = X_train_full[:5000]/255.0, X_train_full[5000:]/255.0\n",
    "y_valid, y_train = y_train_full[:5000], y_train_full[5000:]"
   ]
  },
  {
   "cell_type": "code",
   "execution_count": 9,
   "metadata": {
    "executionInfo": {
     "elapsed": 10,
     "status": "ok",
     "timestamp": 1699014990056,
     "user": {
      "displayName": "Eduardo Sanchez Karhunen",
      "userId": "07705693878574082533"
     },
     "user_tz": -60
    },
    "id": "zhCHopX9EGzu"
   },
   "outputs": [],
   "source": [
    "assert X_valid.shape == (5000,28,28)\n",
    "assert X_train.shape == (55000,28,28)"
   ]
  },
  {
   "cell_type": "markdown",
   "metadata": {
    "id": "j6fw6sBh0HCJ"
   },
   "source": [
    "### 5. Model architecture"
   ]
  },
  {
   "cell_type": "markdown",
   "metadata": {
    "id": "_g32ja2T1uAt"
   },
   "source": [
    "In order to learn multiple basic concepts about neural networks, we will tackle this classification problem with a MLP architecture. At this point, some design decisions must be taken about our MLP netowrk:\n",
    "* The layer structure.\n",
    "* Number of neurons of each layer and their activation function.\n",
    "\n",
    "![picture](https://drive.google.com/uc?id=1caBJEFAB3hIKfX9zZTMsZVgl4FcHfNW9)\n",
    "\n",
    "\n"
   ]
  },
  {
   "cell_type": "markdown",
   "metadata": {
    "id": "1kqRtq9E5-iM"
   },
   "source": [
    "### 5.1. Input layer"
   ]
  },
  {
   "cell_type": "markdown",
   "metadata": {
    "id": "_WHANkRU3aLK"
   },
   "source": [
    "NNs always have a first layer called input layer acting as a host or entry-point to the network:\n",
    "* It receives input samples and provides the arrays to the rest of the network. It \"informs\" the rest of the network about the input shape.\n",
    "* #neurons = #features\n",
    "* In image problems, input samples are 2D-arrays where each pixel is a feature. Unfortunately, hidden __dense layers can only handle 1D-arrays__. Thus, the input layer must __flatten the 2D-array__ converting it into a 1D vector. In our case, the 28x28 arrays must be flattened into 1D-array with length 28x28 = 784.\n",
    "* On the contrary, if input samples are 1D arrays it acts simply as a __passthrough layer__.\n",
    "* Finally, this input layer has no activation function associated.\n",
    "\n",
    "Hence, depending on the input array shape, a transformation could be needed. Thus:\n",
    "* If the input samples are 1D-array, a layer called _Input\\_layer_ is considered. (https://www.tensorflow.org/api_docs/python/tf/keras/layers/InputLayer). Typically if no flattening is needed, the first hidden layer also acts as input_layer.  \n",
    "* If the input samples are 2D-arrays. A layer called _Flatten_ is needed.\n",
    "(https://www.tensorflow.org/api_docs/python/tf/keras/layers/Flatten).\n",
    "\n",
    "Once performed the flattening, we obtain a 1D input array of size 784."
   ]
  },
  {
   "cell_type": "code",
   "execution_count": 10,
   "metadata": {
    "executionInfo": {
     "elapsed": 9,
     "status": "ok",
     "timestamp": 1699014990056,
     "user": {
      "displayName": "Eduardo Sanchez Karhunen",
      "userId": "07705693878574082533"
     },
     "user_tz": -60
    },
    "id": "ILp5VOmcwyEX"
   },
   "outputs": [],
   "source": [
    "flatten_layer = tf.keras.layers.Flatten(input_shape=[28,28],name='input_layer')"
   ]
  },
  {
   "cell_type": "markdown",
   "metadata": {
    "id": "YOIwT44V8NrW"
   },
   "source": [
    "### 5.2. Output layer\n"
   ]
  },
  {
   "cell_type": "markdown",
   "metadata": {
    "id": "902Wh5ux8eSm"
   },
   "source": [
    "The output layer is a common dense layer but its parameters (number of neurons and activation function) depend strongly on the task we are tackling. For a basic classification problem there are two possibilities: binary classification and multiclass classification."
   ]
  },
  {
   "cell_type": "markdown",
   "metadata": {
    "id": "9H4Dz25TKyrg"
   },
   "source": [
    "__Binary classification__:  \n",
    "\n",
    " - Each class is labeled as 0 or 1.\n",
    " - Hence, only 1 neuron is needed.\n",
    " - The desired interpretation to this neuron output:\n",
    " $$A_{output} = P(Y=1)$$   \n",
    " - The activation function that provides this functionality is the sigmoid.\n",
    "\n",
    " $$\\sigma(z) = \\frac{1}{1+e^{-z}}$$\n"
   ]
  },
  {
   "cell_type": "code",
   "execution_count": 11,
   "metadata": {
    "colab": {
     "base_uri": "https://localhost:8080/",
     "height": 391
    },
    "executionInfo": {
     "elapsed": 514,
     "status": "ok",
     "timestamp": 1699014990561,
     "user": {
      "displayName": "Eduardo Sanchez Karhunen",
      "userId": "07705693878574082533"
     },
     "user_tz": -60
    },
    "id": "fhFhhq9pK7sz",
    "outputId": "696302f3-25e9-4c25-92ab-06fa323fd7d0"
   },
   "outputs": [
    {
     "data": {
      "image/png": "[encoded data removed]",
      "text/plain": [
       "<Figure size 600x400 with 1 Axes>"
      ]
     },
     "metadata": {},
     "output_type": "display_data"
    }
   ],
   "source": [
    "import matplotlib.pyplot as plt\n",
    "\n",
    "def sigmoid(x):\n",
    "  return 1/(1 + np.exp(-x))\n",
    "\n",
    "x = np.linspace(-6, 6, 100)\n",
    "\n",
    "plt.figure(figsize=(6, 4))\n",
    "plt.plot(x, sigmoid(x))\n",
    "plt.axhline(y=0, color='r', linestyle='--', linewidth=1)\n",
    "plt.axhline(y=1, color='r', linestyle='--', linewidth=1)\n",
    "plt.title(\"Sigmoid activation\")\n",
    "plt.grid(color='black', linestyle='-.', linewidth=0.3)"
   ]
  },
  {
   "cell_type": "markdown",
   "metadata": {
    "id": "uHzs1doNKmAD"
   },
   "source": [
    "__Multiclass classification__:\n",
    "\n",
    " - As many labels as classes.\n",
    " - Hence, #neurons = #classes.\n",
    " - The desired intepretation of each output neuron _i_ is:\n",
    " $$A_{output} = P(Y=i)$$   \n",
    "   with:\n",
    " $$\\sum_{i=1}^{n} A_{output} = \\sum_{i=1}^{n} P(Y=i)= 1$$  \n",
    " <br>\n",
    "\n",
    " - The activation function that provides this functionality is the softmax.\n",
    "\n",
    " $$softmax(z) = \\frac{e^{z_i}}{\\sum_{i=1}^{n}e^{z_i}}$$"
   ]
  },
  {
   "cell_type": "code",
   "execution_count": 12,
   "metadata": {
    "executionInfo": {
     "elapsed": 11,
     "status": "ok",
     "timestamp": 1699014990562,
     "user": {
      "displayName": "Eduardo Sanchez Karhunen",
      "userId": "07705693878574082533"
     },
     "user_tz": -60
    },
    "id": "YHlLP_2wWH1_"
   },
   "outputs": [],
   "source": [
    "num_classes = 10\n",
    "output_layer = tf.keras.layers.Dense(num_classes,activation='softmax',name='output_layer')"
   ]
  },
  {
   "cell_type": "markdown",
   "metadata": {
    "id": "Or-BYI2RX2M8"
   },
   "source": [
    "### 5.3. Hidden layers"
   ]
  },
  {
   "cell_type": "markdown",
   "metadata": {
    "id": "4qd16sH_9N4h"
   },
   "source": [
    "### 5.3.1. How many layers?"
   ]
  },
  {
   "cell_type": "markdown",
   "metadata": {
    "id": "AKN_8CoSacQA"
   },
   "source": [
    "As we have seen previously, in image classification problems each pixel is a feature. As a consequence, input samples have a huge dimensionality. This implies that the network needs to \"travel\" from 784-d image representations to 10-d. The typical structure used in these cases are a dimensionality descending strategies:\n",
    "\n",
    "<br>\n",
    "\n",
    "![picture](https://drive.google.com/uc?id=1_tufzLQC6SYW40NOAiGWMYD3MlLdP1Vj)\n",
    "\n",
    "The number of hidden layers depends on each problem and it is usually determined with heuristic criteria. To help the network perform these transformations, we have decided to include two hidden layers in the model (with 300 and 100 neurons, respectively).\n",
    "\n"
   ]
  },
  {
   "cell_type": "markdown",
   "metadata": {
    "id": "J_vpAJNk9W6u"
   },
   "source": [
    "### 5.3.2. Activation function selection"
   ]
  },
  {
   "cell_type": "markdown",
   "metadata": {
    "id": "1L6Ft7i4v9EW"
   },
   "source": [
    "Next, we have to decide the activation function associated to these layers.\n",
    "Probably you expect that the standard activation is the sigmoid but ...\n",
    "\n",
    "After Rumelhart (backpropagation + Gradiente descent + Sigmoid) proposal in 1986, a new hype begun. Many researchers run to apply this novel technique to train multilayer models. Soon, new unexpected problems appeared during training:\n",
    "\n",
    "* Gradient vanishing: only the layers nearer to the output get trained.\n",
    "* Slow training.  \n",
    "\n",
    "The source of these problems remained unknown until Glorot & Bengio published an extremely important paper: [Glorot and Bengio. Understanding the difficulty of training deep feedforward networks (2010)](https://proceedings.mlr.press/v9/glorot10a/glorot10a.pdf). One of their main proposal for solving these problems was to avoid using the so called s-shape activation functions:\n",
    "\n",
    "* sigmoid\n",
    "* tanh\n",
    "\n",
    "A new activation layer was proposed: ReLU (Rectified Linear Unit)\n",
    "\n",
    "<br>\n",
    "\n",
    "![picture](https://drive.google.com/uc?id=1_kwopQLyHjAq7laRcVsJop8DAmuLPlbP)\n"
   ]
  },
  {
   "cell_type": "code",
   "execution_count": 13,
   "metadata": {
    "colab": {
     "base_uri": "https://localhost:8080/",
     "height": 393
    },
    "executionInfo": {
     "elapsed": 393,
     "status": "ok",
     "timestamp": 1699014990945,
     "user": {
      "displayName": "Eduardo Sanchez Karhunen",
      "userId": "07705693878574082533"
     },
     "user_tz": -60
    },
    "id": "N4a72KHSX2fh",
    "outputId": "6e055dcb-55da-4a3f-9246-87181adaed84"
   },
   "outputs": [
    {
     "data": {
      "image/png": "[encoded data removed]",
      "text/plain": [
       "<Figure size 600x400 with 1 Axes>"
      ]
     },
     "metadata": {},
     "output_type": "display_data"
    }
   ],
   "source": [
    "def relu(z: np.ndarray):\n",
    "    z = z.reshape(-1,1)\n",
    "    return np.apply_along_axis(func1d=lambda x: x if x>=0.0 else 0.0, axis=1, arr=z)\n",
    "\n",
    "x = np.linspace(-6, 6, 100)\n",
    "\n",
    "plt.figure(figsize=(6, 4))\n",
    "plt.plot(x, relu(x))\n",
    "plt.grid(color='black', linestyle='-.', linewidth=0.3)\n",
    "plt.axhline(y=0,color='red', linestyle='--',alpha=0.4)\n",
    "plt.axvline(x=0,color='red', linestyle='--',alpha=0.4)\n",
    "plt.xlim(-5,5)\n",
    "plt.ylim(-0.2,5)\n",
    "plt.title('$ReLU(z) = max(0,z)$');\n"
   ]
  },
  {
   "cell_type": "markdown",
   "metadata": {
    "id": "58am_QD3vl1g"
   },
   "source": [
    "Activation functions is still an active research area. Many improvements of this basic ReLU have been proposed, relaxing different zones of the curve:\n",
    "\n",
    "* **LeakyReLU**: constant negative slope for x < 0\n",
    "* **Exponential ReLU** (ELU)\n",
    "* **Scaled ELU** (SELU)"
   ]
  },
  {
   "cell_type": "code",
   "execution_count": 14,
   "metadata": {
    "colab": {
     "base_uri": "https://localhost:8080/",
     "height": 393
    },
    "executionInfo": {
     "elapsed": 443,
     "status": "ok",
     "timestamp": 1699014991384,
     "user": {
      "displayName": "Eduardo Sanchez Karhunen",
      "userId": "07705693878574082533"
     },
     "user_tz": -60
    },
    "id": "KVUNLOupxQRW",
    "outputId": "07e5b0f1-ba1d-42df-81f2-6c41be1bf2b7"
   },
   "outputs": [
    {
     "name": "stderr",
     "output_type": "stream",
     "text": [
      "C:\\Users\\esanc\\AppData\\Local\\Temp\\ipykernel_10492\\2072967239.py:9: DeprecationWarning: Conversion of an array with ndim > 0 to a scalar is deprecated, and will error in future. Ensure you extract a single element from your array before performing this operation. (Deprecated NumPy 1.25.)\n",
      "  return np.apply_along_axis(func1d=lambda x: alpha*(math.exp(x)-1) if x<0.0 else x,\n"
     ]
    },
    {
     "data": {
      "image/png": "[encoded data removed]",
      "text/plain": [
       "<Figure size 1600x400 with 3 Axes>"
      ]
     },
     "metadata": {},
     "output_type": "display_data"
    }
   ],
   "source": [
    "import math\n",
    "\n",
    "def leakyReLu(z: np.ndarray):\n",
    "    z = z.reshape(-1,1)\n",
    "    return np.apply_along_axis(func1d=lambda x: x if x>=0.0 else 0.1*x, axis=1, arr=z).reshape(-1)\n",
    "\n",
    "def elu(z: np.ndarray, alpha=0.5):\n",
    "    z = z.reshape(-1,1)\n",
    "    return np.apply_along_axis(func1d=lambda x: alpha*(math.exp(x)-1) if x<0.0 else x,\n",
    "                               axis=1, arr=z).reshape(-1)\n",
    "\n",
    "def selu(z: np.ndarray, alpha=0.5, scale=0.5):\n",
    "    return scale*elu(z, alpha)\n",
    "\n",
    "afs = [leakyReLu, elu, selu]\n",
    "titles = ['$leakyReLU_{a}(z)$', '$ELU_{a}(z)$', '$SELU_{a}(z)$']\n",
    "\n",
    "x = np.linspace(-6, 6, 100)\n",
    "\n",
    "_, axs = plt.subplots(1,3, figsize=(16, 4))\n",
    "axs = axs.reshape(-1)\n",
    "\n",
    "for k, (af, title) in enumerate(zip(afs, titles)):\n",
    "    axs[k].plot(x, af(x))\n",
    "    axs[k].grid(color='black', linestyle='-.', linewidth=0.3)\n",
    "    axs[k].axhline(y=0,color='red', linestyle='--',alpha=0.4)\n",
    "    axs[k].axvline(x=0,color='red', linestyle='--',alpha=0.4)\n",
    "    axs[k].set_xlim(-6,6)\n",
    "    axs[k].set_ylim(-1,5)\n",
    "    axs[k].set_title(title);"
   ]
  },
  {
   "cell_type": "markdown",
   "metadata": {
    "id": "8uLi098j4PQT"
   },
   "source": [
    "The default activation function used for hidden layer is one of the ReLU family. The concrete selection depends of each situation."
   ]
  },
  {
   "cell_type": "markdown",
   "metadata": {
    "id": "s7bUIwLS7Al2"
   },
   "source": [
    "### 5.4. Join all layers together"
   ]
  },
  {
   "cell_type": "markdown",
   "metadata": {
    "id": "3q-1KkrG6zPW"
   },
   "source": [
    "Now, we have all the ingredients to define our hidden layers:"
   ]
  },
  {
   "cell_type": "code",
   "execution_count": 15,
   "metadata": {
    "executionInfo": {
     "elapsed": 15,
     "status": "ok",
     "timestamp": 1699014991385,
     "user": {
      "displayName": "Eduardo Sanchez Karhunen",
      "userId": "07705693878574082533"
     },
     "user_tz": -60
    },
    "id": "AGDRpCcT4ac7"
   },
   "outputs": [],
   "source": [
    "hidden_1 = tf.keras.layers.Dense(300,activation='relu',name='hidden_1')\n",
    "hidden_2 = tf.keras.layers.Dense(100,activation='relu',name='hidden_2')"
   ]
  },
  {
   "cell_type": "markdown",
   "metadata": {
    "id": "P7-ODGTvqCLi"
   },
   "source": [
    "There are two main ways of defining models in NN frameworks. In this session we use the simplest one: the so called `sequential API` or sequential definition of networks. It simply considers the network as a list of sequentially connected layers. (https://www.tensorflow.org/api_docs/python/tf/keras/Sequential).\n",
    "\n",
    "Firstly, an empty Sequential model is defined (we can imagine it as an empty list of layers), and later previously created layer will be added to the \"list\"."
   ]
  },
  {
   "cell_type": "code",
   "execution_count": 16,
   "metadata": {
    "executionInfo": {
     "elapsed": 14,
     "status": "ok",
     "timestamp": 1699014991385,
     "user": {
      "displayName": "Eduardo Sanchez Karhunen",
      "userId": "07705693878574082533"
     },
     "user_tz": -60
    },
    "id": "ukJvpFjHqLT6"
   },
   "outputs": [],
   "source": [
    "model = tf.keras.models.Sequential()"
   ]
  },
  {
   "cell_type": "code",
   "execution_count": 17,
   "metadata": {
    "executionInfo": {
     "elapsed": 14,
     "status": "ok",
     "timestamp": 1699014991385,
     "user": {
      "displayName": "Eduardo Sanchez Karhunen",
      "userId": "07705693878574082533"
     },
     "user_tz": -60
    },
    "id": "ys_6JxFD41M6"
   },
   "outputs": [],
   "source": [
    "model.add(flatten_layer)\n",
    "model.add(hidden_1)\n",
    "model.add(hidden_2)\n",
    "model.add(output_layer)"
   ]
  },
  {
   "cell_type": "markdown",
   "metadata": {
    "id": "yinRobAe-G32"
   },
   "source": [
    "### 5.5. Model summary & number of parameters"
   ]
  },
  {
   "cell_type": "markdown",
   "metadata": {
    "id": "pdJkN_0b5jPD"
   },
   "source": [
    "A description of the model can be obtained using `summary`. It shows the type, dimensionality and #params of each layer.\n",
    "\n",
    "*   input/flattened layer: 0. The input layer has no parameters\n",
    "*   hidden_1: 784 x 300 = 235.200 + bias (300) = 235.500\n",
    "*   hidden_2: 300 x 100 = 30.000 + bias (100) = 30.100\n",
    "*   output_layer: 100 x 10 = 1000 + bias (10) = 1.010"
   ]
  },
  {
   "cell_type": "code",
   "execution_count": 18,
   "metadata": {
    "colab": {
     "base_uri": "https://localhost:8080/"
    },
    "executionInfo": {
     "elapsed": 15,
     "status": "ok",
     "timestamp": 1699014991386,
     "user": {
      "displayName": "Eduardo Sanchez Karhunen",
      "userId": "07705693878574082533"
     },
     "user_tz": -60
    },
    "id": "QzGH0NCk5tj7",
    "outputId": "1d60eb14-9aaf-4d7c-82d3-04a84f01be62"
   },
   "outputs": [
    {
     "name": "stdout",
     "output_type": "stream",
     "text": [
      "Model: \"sequential\"\n",
      "_________________________________________________________________\n",
      " Layer (type)                Output Shape              Param #   \n",
      "=================================================================\n",
      " input_layer (Flatten)       (None, 784)               0         \n",
      "                                                                 \n",
      " hidden_1 (Dense)            (None, 300)               235500    \n",
      "                                                                 \n",
      " hidden_2 (Dense)            (None, 100)               30100     \n",
      "                                                                 \n",
      " output_layer (Dense)        (None, 10)                1010      \n",
      "                                                                 \n",
      "=================================================================\n",
      "Total params: 266,610\n",
      "Trainable params: 266,610\n",
      "Non-trainable params: 0\n",
      "_________________________________________________________________\n"
     ]
    }
   ],
   "source": [
    "model.summary()"
   ]
  },
  {
   "cell_type": "markdown",
   "metadata": {
    "id": "ZomkVEE954CD"
   },
   "source": [
    "### 6. Model training: loss function"
   ]
  },
  {
   "cell_type": "markdown",
   "metadata": {
    "id": "uyyFj4rY8fI0"
   },
   "source": [
    "In our classification problem, the fashion-MNIST dataset can be seen as a set of $m$ tuples $(x^{i},y^{i})$:\n",
    "\n",
    "$ \\{(x^{i},y^{i}), i=1,...,m\\} $\n",
    "\n",
    "where:\n",
    "* $x^{i}$ is the image i (also known as feature vector).\n",
    "* $y^{i}$ is the class associated to image i (also called label).\n",
    "\n",
    "Once selected the MLP architecture to solve the problem:\n",
    "* Number of layers.\n",
    "* Number of neurons per layer.\n",
    "* Activation functions.\n",
    "\n",
    "The following step is to fix the weights $W^{[i]}$ of each layer i. More formally, the parameters of the model: $θ = W^{[i]}, i = 1,...,n$.\n",
    "\n",
    "Given an input image $x^{i}$, our model will predict a label $\\hat{y}^{i}$. Our goal is to select the weights in such a way that some measure of \"distance\" or \"difference\" between $\\hat{y}^{i}$ (true label) and $y^{i}$ (predicted label) is minimized. **This process is known as model training.**\n",
    "\n",
    "These measures of distance between the predicted labels and true labels are called **\"loss functions\"**. This loss function depends on the concrete image problem to be tackled:\n",
    "\n",
    "<br>\n",
    "\n",
    "| Image problem | loss function |\n",
    "| :- | :- |\n",
    "| Image classification | Crossentropy |\n",
    "| Image location | Interesection-over-union (IoU) |\n",
    "| Object detection | Mean average precision (mAP) |\n",
    "| Image segmentation | Pixel-wise crossentropy |\n",
    "\n",
    "<br>\n",
    "\n",
    "**Crossentropy** is, by far, the most popular loss function in classification problems. As we know, the output value of each neuron $i$ in the output layer can be interpreted as the probability of image to belongs to each class $i$. For the simplest situation with 2 classes:\n",
    "\n",
    "<br>\n",
    "\n",
    "$J = \\frac{1}{m} \\sum_{i=1}^{m}[y^{(i)}log(\\hat{y}^{(i)}) + (1-y^{(i)})log(1-\\hat{y}^{(i)})]$\n",
    "\n",
    "<br>\n",
    "\n",
    "When the number of classes > 2, the previous expression can be generalized and  a  `categorical_crossentropy` is considered.\n",
    "\n",
    "The graphical representation in a 2 classes problem:\n",
    "\n",
    "![picture](https://drive.google.com/uc?id=16JxCGImeBJAKX1-wpUhgjigZL7DLC7ZZ)\n",
    "\n",
    "Our goal is to minimize this loss function. The different losses can be found in  https://keras.io/api/losses/ y https://www.tensorflow.org/api_docs/python/tf/keras/losses.\n",
    "\n",
    "\n",
    "\n",
    "\n"
   ]
  },
  {
   "cell_type": "markdown",
   "metadata": {
    "id": "sqA8UU3pLE1K"
   },
   "source": [
    "### 7. Model training: backpropagation\n",
    "\n",
    "As seen in the previous section, our model has aprox. 266K parameters (weights):\n",
    "\n",
    "$$\\text{loss function} = \\text{crossentropy} = f(weights)$$\n",
    "\n",
    "Hence, to train the model means to find a concrete value for each of these 266K weights. Or equivalently, a point in a 266K-dimension space. As you can imagine, this is a complex problem.\n",
    "\n",
    "Even worse, due to the presence of non-linear activation functions, crossentropy is not a convex curve. Unfortunately, there is no analitical way to obtain the global minimum of a 266K dimension non-convex function. So, numerical techniques must be considered to find them:\n",
    "\n",
    "* On the left, a typical convex 2-d loss function.  \n",
    "* On the right, a complex loss function\n",
    "\n",
    "<br>\n",
    "\n",
    "![picture](https://drive.google.com/uc?id=1WneAL6O_PjFTg_FUTzMpMHxVnPKT9u2B)\n",
    "\n",
    " This numerical technique remained unknown during almost 20 years until Rumelhart proposed: backpropagation + gradient descent. Roughly speaking this technique has three steps:\n",
    "\n",
    "* Forward pass: given an input image, the error between the true label and the predicted one is obtained ($J$).\n",
    "* Backward pass: using the derivative chain rule, the previous error is \"backpropagated\", and the contribution of each weight to this error can be obtained.\n",
    "\n",
    "$$\\nabla{J} = \\frac{∂J}{∂W_{i}}$$\n",
    "\n",
    "* Gradient descent: a slight variation in the weights is performed based on the gradient. This variation is controlled by a parameter known as **learning rate**. Typical values in image classification problems are in the range (1e-3, 1e-4).\n",
    "\n",
    "$$\\Delta{W} = -\\eta\\nabla{J}$$\n",
    "\n",
    "As mentioned earlier, when Rumelhart proposal was used in real models, multiple unexpected problems appeared. Some of the problems were solved migrating from s-shape to ReLU activation functions. Unfortunately, a second huge problem remained: **gradient descent is a slow technique**. To manage this disadvantage several alternatives have been proposed and are available in the different frameworks.\n",
    "\n",
    "Some of these improved optimization techniques alter the learning rate during the process, while others maintaining a registry of the previously visited gradients to take decision during the optimization process. In the following table a summary of the different techniques is presented:\n",
    "\n",
    "<br>\n",
    "\n",
    "![picture](https://drive.google.com/uc?id=1mlGacEAlwORodteX7duxz2081ZUNCcdT)\n",
    "\n",
    "<br>\n",
    "\n",
    "Typically an adam optimizer is considered in NN training https://www.tensorflow.org/api_docs/python/tf/keras/optimizers.\n",
    "\n",
    "All these information must be provided to the model using the `compile` method.\n"
   ]
  },
  {
   "cell_type": "code",
   "execution_count": 19,
   "metadata": {
    "executionInfo": {
     "elapsed": 9,
     "status": "ok",
     "timestamp": 1699014991386,
     "user": {
      "displayName": "Eduardo Sanchez Karhunen",
      "userId": "07705693878574082533"
     },
     "user_tz": -60
    },
    "id": "UO4Mn45yenOI"
   },
   "outputs": [],
   "source": [
    "model.compile(loss='sparse_categorical_crossentropy',\n",
    "              optimizer='adam',\n",
    "              metrics=['accuracy'])"
   ]
  },
  {
   "cell_type": "markdown",
   "metadata": {
    "id": "p8p85QVghtkR"
   },
   "source": [
    "### 8. Model training"
   ]
  },
  {
   "cell_type": "markdown",
   "metadata": {
    "id": "bvQP_8tpHz7t"
   },
   "source": [
    "**Epochs**\n",
    "\n",
    "NN models are trained on our training dataset but why not use it as many times as it is useful. The concept of `EPOCH` captures the idea of using the dataset multiple times to train the model. e.g. 10 epochs means, use 10 times the dataset during the training process.\n",
    "\n",
    "**Validation dataset**\n",
    "\n",
    "When a model is trained multiple times using the same dataset, an undesiderable phenomenon appears: `overfitting`. Overfitting will be explained in more details in the following sessions. Briefly, it means that our models \"remember\" our dataset losing its generalization capacity.\n",
    "\n",
    "So the ideal situation is to train the model during as many EPOCHS as possible but stopping before overfitting appears. To determine if this point has been reached or not during training needs a third dataset: the validation dataset.\n",
    "\n",
    "Then, a NN model training involves three datasets:\n",
    "\n",
    "* train dataset: the model is trained considering only this dataset. As many EPOCHS as possible.\n",
    "* validation dataset: after each epoch typically the loss and accuracy is calculated on this validation dataset. If a degradation in this loss appears, it is interpreted as overfitting.\n",
    "* test dataset: is only considered when training has finished.\n",
    "\n",
    "**Training history**\n",
    "\n",
    "Typically, the training process `history` can be recorded for further analysis.\n",
    "\n",
    "\n",
    "**Verbosity**\n",
    "\n",
    "In general, verbosity is a concept related with the amount of information provided by a \"program\" during its operation. In NN training, verbosity is an argument to the training method:\n",
    "* verbose = 0: no info is provided to the user.\n",
    "* verbose = 1 (default value): accuracy and loss after each epoch is provided to the user.  \n",
    "\n",
    "The time taken by this process depends on our hardware. In case of having a CPU, it will take longer than when using a hardware accelerator as a GPU (Graphics Processing Unit) or a TPU (Tensor Processing Unit).\n",
    "\n",
    "The Fashion-MNIST dataset is quite small and shapes are easily identified by the networks. It can be run on GPU or CPU."
   ]
  },
  {
   "cell_type": "code",
   "execution_count": 20,
   "metadata": {
    "colab": {
     "base_uri": "https://localhost:8080/"
    },
    "executionInfo": {
     "elapsed": 40151,
     "status": "ok",
     "timestamp": 1699015031528,
     "user": {
      "displayName": "Eduardo Sanchez Karhunen",
      "userId": "07705693878574082533"
     },
     "user_tz": -60
    },
    "id": "wiBUtqB3gA9a",
    "outputId": "e770112e-06e4-43c8-da1c-f659037ca3aa"
   },
   "outputs": [
    {
     "name": "stdout",
     "output_type": "stream",
     "text": [
      "Epoch 1/7\n",
      "1719/1719 [==============================] - 5s 3ms/step - loss: 0.4817 - accuracy: 0.8252 - val_loss: 0.3624 - val_accuracy: 0.8692\n",
      "Epoch 2/7\n",
      "1719/1719 [==============================] - 4s 2ms/step - loss: 0.3615 - accuracy: 0.8681 - val_loss: 0.3771 - val_accuracy: 0.8646\n",
      "Epoch 3/7\n",
      "1719/1719 [==============================] - 4s 3ms/step - loss: 0.3285 - accuracy: 0.8784 - val_loss: 0.3198 - val_accuracy: 0.8818\n",
      "Epoch 4/7\n",
      "1719/1719 [==============================] - 4s 2ms/step - loss: 0.3018 - accuracy: 0.8883 - val_loss: 0.3085 - val_accuracy: 0.8902\n",
      "Epoch 5/7\n",
      "1719/1719 [==============================] - 4s 2ms/step - loss: 0.2846 - accuracy: 0.8934 - val_loss: 0.3053 - val_accuracy: 0.8892\n",
      "Epoch 6/7\n",
      "1719/1719 [==============================] - 4s 2ms/step - loss: 0.2672 - accuracy: 0.9007 - val_loss: 0.3131 - val_accuracy: 0.8914\n",
      "Epoch 7/7\n",
      "1719/1719 [==============================] - 4s 2ms/step - loss: 0.2580 - accuracy: 0.9032 - val_loss: 0.2959 - val_accuracy: 0.8938\n"
     ]
    }
   ],
   "source": [
    "EPOCHS = 7\n",
    "history = model.fit(X_train, y_train, epochs=EPOCHS, validation_data=(X_valid, y_valid), verbose=1)"
   ]
  },
  {
   "cell_type": "markdown",
   "metadata": {
    "id": "_GolaePEYw00"
   },
   "source": [
    "The training history is usually plotted to compare the evolution of train and validation datasets. The minimum value of loss is reached after 4 epochs. Once reached this point, loss starts growing and training should have been stopped. In the following sessions, the stopping procedure will be explained."
   ]
  },
  {
   "cell_type": "code",
   "execution_count": 21,
   "metadata": {
    "colab": {
     "base_uri": "https://localhost:8080/",
     "height": 388
    },
    "executionInfo": {
     "elapsed": 863,
     "status": "ok",
     "timestamp": 1699015032373,
     "user": {
      "displayName": "Eduardo Sanchez Karhunen",
      "userId": "07705693878574082533"
     },
     "user_tz": -60
    },
    "id": "uwbWpeimYxD8",
    "outputId": "0fcccf66-30a2-42a6-fa64-c40e3fdb0faa"
   },
   "outputs": [
    {
     "data": {
      "image/png": "[encoded data removed]",
      "text/plain": [
       "<Figure size 1200x400 with 2 Axes>"
      ]
     },
     "metadata": {},
     "output_type": "display_data"
    }
   ],
   "source": [
    "df_1 = pd.DataFrame({'loss_train': history.history['loss'],\n",
    "                     'loss_valid': history.history['val_loss']\n",
    "                    })\n",
    "\n",
    "df_2 = pd.DataFrame({'accuracy': history.history['accuracy'],\n",
    "                   'accuracy_valid': history.history['val_accuracy']\n",
    "                   })\n",
    "\n",
    "data = [df_1, df_2]\n",
    "y_labels = ['loss', 'accuracy']\n",
    "\n",
    "f, axs = plt.subplots(1, 2, sharex=True, figsize=(12,4))\n",
    "for ax, y_label, df in zip(axs, y_labels, data):\n",
    "    ax.plot(df, label=['train','valid'])\n",
    "    ax.grid(True)\n",
    "    ax.set_xlabel('epoch')\n",
    "    ax.set_ylabel(y_label)\n",
    "    ax.legend();"
   ]
  },
  {
   "cell_type": "markdown",
   "metadata": {
    "id": "KbiNtUFmdPwD"
   },
   "source": [
    "\n",
    "\n",
    "To obtain the model performance, the `evaluate` method is used on the test dataset:"
   ]
  },
  {
   "cell_type": "code",
   "execution_count": 22,
   "metadata": {
    "colab": {
     "base_uri": "https://localhost:8080/"
    },
    "executionInfo": {
     "elapsed": 501,
     "status": "ok",
     "timestamp": 1699015032870,
     "user": {
      "displayName": "Eduardo Sanchez Karhunen",
      "userId": "07705693878574082533"
     },
     "user_tz": -60
    },
    "id": "gj0sNN4NdQA-",
    "outputId": "673f5b1e-301f-4ad1-9c61-0eba5627b8db"
   },
   "outputs": [
    {
     "name": "stdout",
     "output_type": "stream",
     "text": [
      "model accuracy: 0.86\n"
     ]
    }
   ],
   "source": [
    "res = model.evaluate(X_test,y_test, verbose=0)\n",
    "print(f\"model accuracy: {np.round(res[1],2)}\")"
   ]
  },
  {
   "cell_type": "markdown",
   "metadata": {
    "id": "70ysQABZadFR"
   },
   "source": [
    "#### 9. Using the model"
   ]
  },
  {
   "cell_type": "markdown",
   "metadata": {
    "id": "WYcLKXWdjjK0"
   },
   "source": [
    "Do not forget we have train the model to make predictions on new images. Given an input image, the `predict` method returns the output of the last layer. The content of this layer are the probabilities of the image to be each class.\n",
    "\n",
    "If feed a couple of sentences from t"
   ]
  },
  {
   "cell_type": "code",
   "execution_count": 23,
   "metadata": {
    "colab": {
     "base_uri": "https://localhost:8080/"
    },
    "executionInfo": {
     "elapsed": 10,
     "status": "ok",
     "timestamp": 1699015032870,
     "user": {
      "displayName": "Eduardo Sanchez Karhunen",
      "userId": "07705693878574082533"
     },
     "user_tz": -60
    },
    "id": "C5aTnq2ggf8Y",
    "outputId": "2fa27a2f-1f4f-4698-efe6-9575ad4c5b4c"
   },
   "outputs": [
    {
     "name": "stdout",
     "output_type": "stream",
     "text": [
      "1/1 [==============================] - 0s 177ms/step\n"
     ]
    },
    {
     "data": {
      "text/plain": [
       "array([[0., 0., 0., 0., 0., 0., 0., 0., 0., 1.],\n",
       "       [0., 0., 1., 0., 0., 0., 0., 0., 0., 0.],\n",
       "       [0., 1., 0., 0., 0., 0., 0., 0., 0., 0.]], dtype=float32)"
      ]
     },
     "execution_count": 23,
     "metadata": {},
     "output_type": "execute_result"
    }
   ],
   "source": [
    "X_new = X_test[:3]\n",
    "y_proba = model.predict(X_new)\n",
    "y_proba.round(2)"
   ]
  },
  {
   "cell_type": "markdown",
   "metadata": {
    "id": "MwYtZX7WlRJr"
   },
   "source": [
    "The class of the function is obtained considering:"
   ]
  },
  {
   "cell_type": "code",
   "execution_count": 24,
   "metadata": {
    "colab": {
     "base_uri": "https://localhost:8080/"
    },
    "executionInfo": {
     "elapsed": 8,
     "status": "ok",
     "timestamp": 1699015032871,
     "user": {
      "displayName": "Eduardo Sanchez Karhunen",
      "userId": "07705693878574082533"
     },
     "user_tz": -60
    },
    "id": "LJIsn41Hgu_b",
    "outputId": "9ce25ed5-1cbe-45e0-bae8-b01950b10a7b"
   },
   "outputs": [
    {
     "data": {
      "text/plain": [
       "array([9, 2, 1], dtype=int64)"
      ]
     },
     "execution_count": 24,
     "metadata": {},
     "output_type": "execute_result"
    }
   ],
   "source": [
    "y_predicted = np.argmax(y_proba.round(2), axis=1)\n",
    "y_predicted"
   ]
  },
  {
   "cell_type": "code",
   "execution_count": 25,
   "metadata": {
    "colab": {
     "base_uri": "https://localhost:8080/"
    },
    "executionInfo": {
     "elapsed": 7,
     "status": "ok",
     "timestamp": 1699015032871,
     "user": {
      "displayName": "Eduardo Sanchez Karhunen",
      "userId": "07705693878574082533"
     },
     "user_tz": -60
    },
    "id": "ZXaZrWi2he_O",
    "outputId": "78976afd-c9a4-48fa-bf8e-25db79f9923c"
   },
   "outputs": [
    {
     "data": {
      "text/plain": [
       "array([9, 2, 1], dtype=uint8)"
      ]
     },
     "execution_count": 25,
     "metadata": {},
     "output_type": "execute_result"
    }
   ],
   "source": [
    "y_test[:3]"
   ]
  },
  {
   "cell_type": "code",
   "execution_count": null,
   "metadata": {
    "id": "oZ_gF-n3hka-"
   },
   "outputs": [],
   "source": []
  },
  {
   "cell_type": "code",
   "execution_count": null,
   "metadata": {},
   "outputs": [],
   "source": []
  }
 ],
 "metadata": {
  "colab": {
   "provenance": []
  },
  "kernelspec": {
   "display_name": "Python 3 (ipykernel)",
   "language": "python",
   "name": "python3"
  },
  "language_info": {
   "codemirror_mode": {
    "name": "ipython",
    "version": 3
   },
   "file_extension": ".py",
   "mimetype": "text/x-python",
   "name": "python",
   "nbconvert_exporter": "python",
   "pygments_lexer": "ipython3",
   "version": "3.10.12"
  }
 },
 "nbformat": 4,
 "nbformat_minor": 1
}
